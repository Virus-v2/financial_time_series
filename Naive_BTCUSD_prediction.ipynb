{
 "cells": [
  {
   "cell_type": "code",
   "execution_count": 24,
   "metadata": {},
   "outputs": [],
   "source": [
    "############# Initialisation ################\n",
    "\n",
    "rm(list=ls())\n",
    "shhh <- suppressPackageStartupMessages\n",
    "\n",
    "shhh(library(tidyquant))\n",
    "shhh(library(timetk))\n",
    "shhh(library(tibbletime))\n",
    "shhh(library(PerformanceAnalytics))\n",
    "shhh(library(blotter))\n",
    "shhh(library(quantstrat))\n",
    "\n",
    "set.seed(1234)"
   ]
  },
  {
   "cell_type": "code",
   "execution_count": 25,
   "metadata": {},
   "outputs": [
    {
     "data": {
      "text/html": [
       "<table>\n",
       "<thead><tr><th scope=col>Dates</th><th scope=col>Open</th><th scope=col>Close</th><th scope=col>High</th><th scope=col>Low</th><th scope=col>Value</th><th scope=col>Volume</th><th scope=col>Number.Ticks</th></tr></thead>\n",
       "<tbody>\n",
       "\t<tr><td>06/06/2019 16:43</td><td>7692.69         </td><td>7687.31         </td><td>7692.69         </td><td>7687.26         </td><td>0               </td><td>0               </td><td>373             </td></tr>\n",
       "\t<tr><td>06/06/2019 16:42</td><td>7687.55         </td><td>7692.68         </td><td>7692.94         </td><td>7686.02         </td><td>0               </td><td>0               </td><td>407             </td></tr>\n",
       "\t<tr><td>06/06/2019 16:41</td><td>7692.35         </td><td>7687.55         </td><td>7692.55         </td><td>7687.55         </td><td>0               </td><td>0               </td><td>310             </td></tr>\n",
       "\t<tr><td>06/06/2019 16:40</td><td>7695.89         </td><td>7692.33         </td><td>7696.04         </td><td>7691.27         </td><td>0               </td><td>0               </td><td>434             </td></tr>\n",
       "\t<tr><td>06/06/2019 16:39</td><td>7698.32         </td><td>7695.89         </td><td>7702.20         </td><td>7695.88         </td><td>0               </td><td>0               </td><td>370             </td></tr>\n",
       "\t<tr><td>06/06/2019 16:38</td><td>7703.03         </td><td>7698.32         </td><td>7703.33         </td><td>7698.32         </td><td>0               </td><td>0               </td><td>279             </td></tr>\n",
       "</tbody>\n",
       "</table>\n"
      ],
      "text/latex": [
       "\\begin{tabular}{r|llllllll}\n",
       " Dates & Open & Close & High & Low & Value & Volume & Number.Ticks\\\\\n",
       "\\hline\n",
       "\t 06/06/2019 16:43 & 7692.69          & 7687.31          & 7692.69          & 7687.26          & 0                & 0                & 373             \\\\\n",
       "\t 06/06/2019 16:42 & 7687.55          & 7692.68          & 7692.94          & 7686.02          & 0                & 0                & 407             \\\\\n",
       "\t 06/06/2019 16:41 & 7692.35          & 7687.55          & 7692.55          & 7687.55          & 0                & 0                & 310             \\\\\n",
       "\t 06/06/2019 16:40 & 7695.89          & 7692.33          & 7696.04          & 7691.27          & 0                & 0                & 434             \\\\\n",
       "\t 06/06/2019 16:39 & 7698.32          & 7695.89          & 7702.20          & 7695.88          & 0                & 0                & 370             \\\\\n",
       "\t 06/06/2019 16:38 & 7703.03          & 7698.32          & 7703.33          & 7698.32          & 0                & 0                & 279             \\\\\n",
       "\\end{tabular}\n"
      ],
      "text/markdown": [
       "\n",
       "| Dates | Open | Close | High | Low | Value | Volume | Number.Ticks |\n",
       "|---|---|---|---|---|---|---|---|\n",
       "| 06/06/2019 16:43 | 7692.69          | 7687.31          | 7692.69          | 7687.26          | 0                | 0                | 373              |\n",
       "| 06/06/2019 16:42 | 7687.55          | 7692.68          | 7692.94          | 7686.02          | 0                | 0                | 407              |\n",
       "| 06/06/2019 16:41 | 7692.35          | 7687.55          | 7692.55          | 7687.55          | 0                | 0                | 310              |\n",
       "| 06/06/2019 16:40 | 7695.89          | 7692.33          | 7696.04          | 7691.27          | 0                | 0                | 434              |\n",
       "| 06/06/2019 16:39 | 7698.32          | 7695.89          | 7702.20          | 7695.88          | 0                | 0                | 370              |\n",
       "| 06/06/2019 16:38 | 7703.03          | 7698.32          | 7703.33          | 7698.32          | 0                | 0                | 279              |\n",
       "\n"
      ],
      "text/plain": [
       "  Dates            Open    Close   High    Low     Value Volume Number.Ticks\n",
       "1 06/06/2019 16:43 7692.69 7687.31 7692.69 7687.26 0     0      373         \n",
       "2 06/06/2019 16:42 7687.55 7692.68 7692.94 7686.02 0     0      407         \n",
       "3 06/06/2019 16:41 7692.35 7687.55 7692.55 7687.55 0     0      310         \n",
       "4 06/06/2019 16:40 7695.89 7692.33 7696.04 7691.27 0     0      434         \n",
       "5 06/06/2019 16:39 7698.32 7695.89 7702.20 7695.88 0     0      370         \n",
       "6 06/06/2019 16:38 7703.03 7698.32 7703.33 7698.32 0     0      279         "
      ]
     },
     "metadata": {},
     "output_type": "display_data"
    }
   ],
   "source": [
    "################# Setting up the data ##################################################\n",
    "# This data was taken from Bloomberg terminal - May 2019\n",
    "\n",
    "data <- read.delim(\"E:/trading_model/data/XBTUSD.csv\", sep = \";\", stringsAsFactors = FALSE)\n",
    "colnames(data)[1] <- \"Dates\"\n",
    "\n",
    "head(data)"
   ]
  },
  {
   "cell_type": "code",
   "execution_count": 26,
   "metadata": {},
   "outputs": [
    {
     "data": {
      "text/html": [
       "<table>\n",
       "<thead><tr><th scope=col>Dates</th><th scope=col>Open</th><th scope=col>Close</th><th scope=col>High</th><th scope=col>Low</th><th scope=col>Value</th><th scope=col>Volume</th><th scope=col>Number.Ticks</th></tr></thead>\n",
       "<tbody>\n",
       "\t<tr><td>2019-06-06 16:43:00</td><td>7692.69            </td><td>7687.31            </td><td>7692.69            </td><td>7687.26            </td><td>0                  </td><td>0                  </td><td>373                </td></tr>\n",
       "\t<tr><td>2019-06-06 16:42:00</td><td>7687.55            </td><td>7692.68            </td><td>7692.94            </td><td>7686.02            </td><td>0                  </td><td>0                  </td><td>407                </td></tr>\n",
       "\t<tr><td>2019-06-06 16:41:00</td><td>7692.35            </td><td>7687.55            </td><td>7692.55            </td><td>7687.55            </td><td>0                  </td><td>0                  </td><td>310                </td></tr>\n",
       "\t<tr><td>2019-06-06 16:40:00</td><td>7695.89            </td><td>7692.33            </td><td>7696.04            </td><td>7691.27            </td><td>0                  </td><td>0                  </td><td>434                </td></tr>\n",
       "\t<tr><td>2019-06-06 16:39:00</td><td>7698.32            </td><td>7695.89            </td><td>7702.20            </td><td>7695.88            </td><td>0                  </td><td>0                  </td><td>370                </td></tr>\n",
       "\t<tr><td>2019-06-06 16:38:00</td><td>7703.03            </td><td>7698.32            </td><td>7703.33            </td><td>7698.32            </td><td>0                  </td><td>0                  </td><td>279                </td></tr>\n",
       "</tbody>\n",
       "</table>\n"
      ],
      "text/latex": [
       "\\begin{tabular}{r|llllllll}\n",
       " Dates & Open & Close & High & Low & Value & Volume & Number.Ticks\\\\\n",
       "\\hline\n",
       "\t 2019-06-06 16:43:00 & 7692.69             & 7687.31             & 7692.69             & 7687.26             & 0                   & 0                   & 373                \\\\\n",
       "\t 2019-06-06 16:42:00 & 7687.55             & 7692.68             & 7692.94             & 7686.02             & 0                   & 0                   & 407                \\\\\n",
       "\t 2019-06-06 16:41:00 & 7692.35             & 7687.55             & 7692.55             & 7687.55             & 0                   & 0                   & 310                \\\\\n",
       "\t 2019-06-06 16:40:00 & 7695.89             & 7692.33             & 7696.04             & 7691.27             & 0                   & 0                   & 434                \\\\\n",
       "\t 2019-06-06 16:39:00 & 7698.32             & 7695.89             & 7702.20             & 7695.88             & 0                   & 0                   & 370                \\\\\n",
       "\t 2019-06-06 16:38:00 & 7703.03             & 7698.32             & 7703.33             & 7698.32             & 0                   & 0                   & 279                \\\\\n",
       "\\end{tabular}\n"
      ],
      "text/markdown": [
       "\n",
       "| Dates | Open | Close | High | Low | Value | Volume | Number.Ticks |\n",
       "|---|---|---|---|---|---|---|---|\n",
       "| 2019-06-06 16:43:00 | 7692.69             | 7687.31             | 7692.69             | 7687.26             | 0                   | 0                   | 373                 |\n",
       "| 2019-06-06 16:42:00 | 7687.55             | 7692.68             | 7692.94             | 7686.02             | 0                   | 0                   | 407                 |\n",
       "| 2019-06-06 16:41:00 | 7692.35             | 7687.55             | 7692.55             | 7687.55             | 0                   | 0                   | 310                 |\n",
       "| 2019-06-06 16:40:00 | 7695.89             | 7692.33             | 7696.04             | 7691.27             | 0                   | 0                   | 434                 |\n",
       "| 2019-06-06 16:39:00 | 7698.32             | 7695.89             | 7702.20             | 7695.88             | 0                   | 0                   | 370                 |\n",
       "| 2019-06-06 16:38:00 | 7703.03             | 7698.32             | 7703.33             | 7698.32             | 0                   | 0                   | 279                 |\n",
       "\n"
      ],
      "text/plain": [
       "  Dates               Open    Close   High    Low     Value Volume Number.Ticks\n",
       "1 2019-06-06 16:43:00 7692.69 7687.31 7692.69 7687.26 0     0      373         \n",
       "2 2019-06-06 16:42:00 7687.55 7692.68 7692.94 7686.02 0     0      407         \n",
       "3 2019-06-06 16:41:00 7692.35 7687.55 7692.55 7687.55 0     0      310         \n",
       "4 2019-06-06 16:40:00 7695.89 7692.33 7696.04 7691.27 0     0      434         \n",
       "5 2019-06-06 16:39:00 7698.32 7695.89 7702.20 7695.88 0     0      370         \n",
       "6 2019-06-06 16:38:00 7703.03 7698.32 7703.33 7698.32 0     0      279         "
      ]
     },
     "metadata": {},
     "output_type": "display_data"
    }
   ],
   "source": [
    "data <- data %>%\n",
    "  mutate(Dates = ifelse(nchar(Dates) == 10, paste(Dates, \"0:00\", sep = \" \"), Dates),\n",
    "         Dates = as.POSIXct(Dates, format=\"%d/%m/%Y %H:%M\")) %>%\n",
    "  as_tibble() %>%\n",
    "  as_tbl_time(Dates)\n",
    "\n",
    "head(data)"
   ]
  },
  {
   "cell_type": "code",
   "execution_count": 27,
   "metadata": {},
   "outputs": [
    {
     "name": "stderr",
     "output_type": "stream",
     "text": [
      "Warning message in tk_xts_.data.frame(data = data, select = select, date_var = date_var, :\n",
      "\"Non-numeric columns being dropped: Dates\""
     ]
    },
    {
     "data": {
      "text/plain": [
       "                       Open   Close    High     Low Value Volume Number.Ticks\n",
       "2019-03-01 09:00:00 3809.62 3808.76 3809.98 3808.31     0      0          189\n",
       "2019-03-01 09:01:00 3808.76 3809.10 3809.19 3807.85     0      0          190\n",
       "2019-03-01 09:02:00 3809.16 3808.69 3809.19 3808.67     0      0          253\n",
       "2019-03-01 09:03:00 3808.69 3807.92 3809.21 3807.92     0      0          121\n",
       "2019-03-01 09:04:00 3807.92 3804.90 3807.92 3804.90     0      0          177\n",
       "2019-03-01 09:05:00 3804.90 3804.67 3805.15 3804.05     0      0          202"
      ]
     },
     "metadata": {},
     "output_type": "display_data"
    }
   ],
   "source": [
    "df <- tk_xts(data, date_var = Dates)\n",
    "\n",
    "head(df)"
   ]
  },
  {
   "cell_type": "code",
   "execution_count": 28,
   "metadata": {},
   "outputs": [
    {
     "data": {
      "text/html": [
       "'USD'"
      ],
      "text/latex": [
       "'USD'"
      ],
      "text/markdown": [
       "'USD'"
      ],
      "text/plain": [
       "[1] \"USD\""
      ]
     },
     "metadata": {},
     "output_type": "display_data"
    }
   ],
   "source": [
    "#setting up some initial parameters for the quantstrat trading model\n",
    "initDate=\"2019-03-01\"\n",
    "init_equity <- 100\n",
    "adjustment <- TRUE\n",
    "\n",
    ".orderqty <- 1\n",
    ".txnfees <- -0.3\n",
    "\n",
    "currency('USD')\n",
    "Sys.setenv(TZ=\"UTC\")"
   ]
  },
  {
   "cell_type": "code",
   "execution_count": 29,
   "metadata": {},
   "outputs": [
    {
     "data": {
      "text/plain": [
       "                       Open   Close    High     Low Value Volume Number.Ticks\n",
       "2019-05-17 19:09:00 7052.00 7073.89 7077.30 7051.97     0      0          580\n",
       "2019-05-17 19:10:00 7073.89 7059.98 7073.89 7059.63     0      0          635\n",
       "2019-05-17 19:11:00 7059.98 7065.32 7066.78 7058.21     0      0          439\n",
       "2019-05-17 19:12:00 7065.32 7050.65 7065.32 7049.87     0      0          401\n",
       "2019-05-17 19:13:00 7050.65 7062.01 7063.41 7048.23     0      0          605\n",
       "2019-05-17 19:14:00 7062.01 7067.95 7072.69 7060.17     0      0          633\n",
       "                    direction      rsi momentum direction_fwd\n",
       "2019-05-17 19:09:00         1 47.53122   -28.07             0\n",
       "2019-05-17 19:10:00         0 37.71151   -50.70             1\n",
       "2019-05-17 19:11:00         1 39.28530   -28.17             0\n",
       "2019-05-17 19:12:00         0 33.03566   -41.87             1\n",
       "2019-05-17 19:13:00         1 40.80070   -55.15             1\n",
       "2019-05-17 19:14:00         1 43.02266   -34.70             1"
      ]
     },
     "metadata": {},
     "output_type": "display_data"
    },
    {
     "data": {
      "text/plain": [
       "                       Open   Close    High     Low Value Volume Number.Ticks\n",
       "2019-05-17 19:15:00 7066.41 7091.00 7091.00 7066.25     0      0          703\n",
       "2019-05-17 19:16:00 7091.00 7092.66 7094.33 7083.20     0      0          615\n",
       "2019-05-17 19:17:00 7092.66 7098.50 7102.95 7089.52     0      0          494\n",
       "2019-05-17 19:18:00 7098.45 7096.46 7099.54 7089.49     0      0          653\n",
       "2019-05-17 19:19:00 7096.46 7094.95 7096.46 7091.70     0      0          509\n",
       "2019-05-17 19:20:00 7094.95 7081.90 7096.34 7080.03     0      0          515\n",
       "                    direction      rsi momentum direction_fwd\n",
       "2019-05-17 19:15:00         1 42.50344   -10.99             1\n",
       "2019-05-17 19:16:00         1 46.90961     7.21             1\n",
       "2019-05-17 19:17:00         1 48.95390     5.97             0\n",
       "2019-05-17 19:18:00         0 53.61434    18.22             0\n",
       "2019-05-17 19:19:00         0 50.82459    26.41             0\n",
       "2019-05-17 19:20:00         0 51.25773    29.40             0"
      ]
     },
     "metadata": {},
     "output_type": "display_data"
    }
   ],
   "source": [
    "####################### Simple Model ##################################\n",
    "\n",
    "df$direction <- with(df, ifelse(Close >= Open, 1, 0))\n",
    "\n",
    "#create two basic input variables - lagged\n",
    "df$rsi <- RSI(df$Close, nFast=14, nSlow = 26, nSig = 9, maType = SMA)\n",
    "df$momentum <- momentum(df$Close, n = 12)\n",
    "\n",
    "df <- df[complete.cases(df), ] \n",
    "df$direction_fwd <- lag.xts(df$direction, k = -1)\n",
    "\n",
    "# create a training and test set\n",
    "train_date <- nrow(df) *0.8\n",
    "train <- df[1:train_date,]\n",
    "test <- df[-c(1:train_date),]\n",
    "\n",
    "tail(train)\n",
    "head(test)"
   ]
  },
  {
   "cell_type": "code",
   "execution_count": 30,
   "metadata": {},
   "outputs": [
    {
     "data": {
      "text/plain": [
       "\n",
       "Call:\n",
       "glm(formula = direction_fwd ~ rsi + momentum, family = binomial, \n",
       "    data = train)\n",
       "\n",
       "Deviance Residuals: \n",
       "   Min      1Q  Median      3Q     Max  \n",
       "-1.735  -1.215   1.113   1.139   1.622  \n",
       "\n",
       "Coefficients:\n",
       "              Estimate Std. Error z value Pr(>|z|)    \n",
       "(Intercept) -0.0257646  0.0230161  -1.119    0.263    \n",
       "rsi          0.0022950  0.0004273   5.371 7.81e-08 ***\n",
       "momentum    -0.0014730  0.0003641  -4.045 5.23e-05 ***\n",
       "---\n",
       "Signif. codes:  0 '***' 0.001 '**' 0.01 '*' 0.05 '.' 0.1 ' ' 1\n",
       "\n",
       "(Dispersion parameter for binomial family taken to be 1)\n",
       "\n",
       "    Null deviance: 112762  on 81463  degrees of freedom\n",
       "Residual deviance: 112730  on 81461  degrees of freedom\n",
       "AIC: 112736\n",
       "\n",
       "Number of Fisher Scoring iterations: 3\n"
      ]
     },
     "metadata": {},
     "output_type": "display_data"
    }
   ],
   "source": [
    "# Run a simple logistic regression and obtain predicted probabilities\n",
    "lm.fit <- glm(direction_fwd ~ rsi + momentum, data = train, family = binomial)\n",
    "\n",
    "summary(lm.fit)"
   ]
  },
  {
   "cell_type": "code",
   "execution_count": 31,
   "metadata": {},
   "outputs": [],
   "source": [
    "# Make the predictions on the test data\n",
    "pr.lm <- predict(lm.fit, test, type = \"response\")\n",
    "test$pred_prob <- pr.lm"
   ]
  },
  {
   "cell_type": "code",
   "execution_count": 32,
   "metadata": {},
   "outputs": [
    {
     "data": {
      "text/html": [
       "'Accuracy: 0.514559292904493'"
      ],
      "text/latex": [
       "'Accuracy: 0.514559292904493'"
      ],
      "text/markdown": [
       "'Accuracy: 0.514559292904493'"
      ],
      "text/plain": [
       "[1] \"Accuracy: 0.514559292904493\""
      ]
     },
     "metadata": {},
     "output_type": "display_data"
    }
   ],
   "source": [
    "# If the predicted probability is > 0.50 then predict the market went \"Up\", if <= 0.50 then predict the market went \"Down\"\n",
    "test$prediction <- ifelse(pr.lm > 0.50, 1, 0)\n",
    "\n",
    "paste0(\"Accuracy: \", mean(test$direction_fwd == test$prediction, na.rm = T))"
   ]
  },
  {
   "cell_type": "code",
   "execution_count": 33,
   "metadata": {},
   "outputs": [
    {
     "data": {
      "text/html": [
       "'test'"
      ],
      "text/latex": [
       "'test'"
      ],
      "text/markdown": [
       "'test'"
      ],
      "text/plain": [
       "[1] \"test\""
      ]
     },
     "metadata": {},
     "output_type": "display_data"
    },
    {
     "data": {
      "text/html": [
       "'LogisticRegressionStrategy'"
      ],
      "text/latex": [
       "'LogisticRegressionStrategy'"
      ],
      "text/markdown": [
       "'LogisticRegressionStrategy'"
      ],
      "text/plain": [
       "[1] \"LogisticRegressionStrategy\""
      ]
     },
     "metadata": {},
     "output_type": "display_data"
    },
    {
     "data": {
      "text/html": [
       "'LogisticRegressionStrategy'"
      ],
      "text/latex": [
       "'LogisticRegressionStrategy'"
      ],
      "text/markdown": [
       "'LogisticRegressionStrategy'"
      ],
      "text/plain": [
       "[1] \"LogisticRegressionStrategy\""
      ]
     },
     "metadata": {},
     "output_type": "display_data"
    }
   ],
   "source": [
    "# Backtest the strategy\n",
    "stock(\"test\", currency=\"USD\", multiplier=1)\n",
    "strategy.st <- portfolio.st <- account.st <- \"LogisticRegressionStrategy\"\n",
    "rm.strat(strategy.st)\n",
    "rm.strat(portfolio.st)\n",
    "rm.strat(account.st)\n",
    "\n",
    "initPortf(name = portfolio.st,\n",
    "          symbols = \"test\", \n",
    "          initDate = initDate, \n",
    "          currency = 'USD')\n",
    "\n",
    "initAcct(name = account.st, \n",
    "         portfolios = portfolio.st, \n",
    "         initDate = initDate, \n",
    "         currency = 'USD',\n",
    "         initEq = init_equity)\n",
    "\n",
    "\n",
    "initOrders(portfolio.st,\n",
    "           symbols = \"test\",\n",
    "           initDate = initDate)\n",
    "\n",
    "strategy(strategy.st, store = TRUE)\n",
    "\n",
    "nMult_orderqty <- 2\n",
    "addPosLimit(portfolio.st, symbol = \"test\", timestamp = initDate, maxpos = nMult_orderqty * .orderqty)"
   ]
  },
  {
   "cell_type": "code",
   "execution_count": 34,
   "metadata": {},
   "outputs": [
    {
     "data": {
      "text/html": [
       "'LogisticRegressionStrategy'"
      ],
      "text/latex": [
       "'LogisticRegressionStrategy'"
      ],
      "text/markdown": [
       "'LogisticRegressionStrategy'"
      ],
      "text/plain": [
       "[1] \"LogisticRegressionStrategy\""
      ]
     },
     "metadata": {},
     "output_type": "display_data"
    },
    {
     "data": {
      "text/html": [
       "'LogisticRegressionStrategy'"
      ],
      "text/latex": [
       "'LogisticRegressionStrategy'"
      ],
      "text/markdown": [
       "'LogisticRegressionStrategy'"
      ],
      "text/plain": [
       "[1] \"LogisticRegressionStrategy\""
      ]
     },
     "metadata": {},
     "output_type": "display_data"
    }
   ],
   "source": [
    "########## Add the buy and sell signals generated from the Logistic Model ############\n",
    "\n",
    "# Buy when prob exceeds 0.50 for the first time, using cross= TRUE\n",
    "add.signal(strategy = strategy.st,\n",
    "           name = \"sigThreshold\",\n",
    "           arguments = list(threshold = 0.50, column = \"pred_prob\", relationship = \"gt\", cross = TRUE),\n",
    "           label = \"longSig\")\n",
    "\n",
    "# Exit when prob drops below 0.5 for the first time\n",
    "add.signal(strategy = strategy.st,\n",
    "           name = \"sigThreshold\",\n",
    "           arguments = list(threshold=0.50, column = \"pred_prob\", relationship = \"lte\", cross= TRUE),\n",
    "           label = \"exitLongSig\")"
   ]
  },
  {
   "cell_type": "code",
   "execution_count": 35,
   "metadata": {},
   "outputs": [
    {
     "data": {
      "text/html": [
       "'LogisticRegressionStrategy'"
      ],
      "text/latex": [
       "'LogisticRegressionStrategy'"
      ],
      "text/markdown": [
       "'LogisticRegressionStrategy'"
      ],
      "text/plain": [
       "[1] \"LogisticRegressionStrategy\""
      ]
     },
     "metadata": {},
     "output_type": "display_data"
    },
    {
     "data": {
      "text/html": [
       "'LogisticRegressionStrategy'"
      ],
      "text/latex": [
       "'LogisticRegressionStrategy'"
      ],
      "text/markdown": [
       "'LogisticRegressionStrategy'"
      ],
      "text/plain": [
       "[1] \"LogisticRegressionStrategy\""
      ]
     },
     "metadata": {},
     "output_type": "display_data"
    }
   ],
   "source": [
    "# Adding the rules, enter at the low price when \"prediction\" = 1, taking transaction fees into account\n",
    "add.rule(strategy = strategy.st,\n",
    "         name = \"ruleSignal\",\n",
    "         arguments = list(sigcol = \"longSig\",\n",
    "                          sigval = 1,\n",
    "                          orderqty = .orderqty,\n",
    "                          ordertype = \"market\",\n",
    "                          orderside = \"long\",\n",
    "                          osFUN = osMaxPos,\n",
    "                          prefer = \"Open\",  #Never kknow the low in advance. Use the open, as it is for the next day (be aware that the open price for bar data has its own problems too)\n",
    "                          TxnFees = .txnfees, \n",
    "                          replace = FALSE),\n",
    "         type = \"enter\",\n",
    "         label = \"EnterLONG\")\n",
    "\n",
    "# As soon as the Logistic regression predicts a \"0\" we dump all our shares \n",
    "\n",
    "add.rule(strategy.st, \n",
    "         name = \"ruleSignal\", \n",
    "         arguments = list(sigcol = \"exitLongSig\", \n",
    "                          sigval = 1, \n",
    "                          ordertype = \"market\", \n",
    "                          orderside = \"long\",\n",
    "                          orderqty = \"all\", \n",
    "                          TxnFees = .txnfees, \n",
    "                          replace = TRUE), \n",
    "         type = \"exit\", \n",
    "         label = \"Exit2SHORT\")\n"
   ]
  },
  {
   "cell_type": "code",
   "execution_count": 36,
   "metadata": {},
   "outputs": [
    {
     "name": "stdout",
     "output_type": "stream",
     "text": [
      "[1] \"2019-05-17 20:20:00 test 1 @ 7103.96\"\n",
      "[1] \"2019-05-19 21:00:00 test -1 @ 7990.1\"\n",
      "[1] \"2019-05-19 21:12:00 test 1 @ 7982.39\"\n",
      "[1] \"2019-05-20 00:40:00 test -1 @ 8148.97\"\n",
      "[1] \"2019-05-20 00:41:00 test 1 @ 8148.97\"\n",
      "[1] \"2019-05-20 00:42:00 test -1 @ 8204.98\"\n",
      "[1] \"2019-05-20 00:48:00 test 1 @ 8206.54\"\n",
      "[1] \"2019-05-20 02:18:00 test -1 @ 8123.08\"\n",
      "[1] \"2019-05-20 02:20:00 test 1 @ 8124.05\"\n",
      "[1] \"2019-05-20 02:57:00 test -1 @ 7934.93\"\n",
      "[1] \"2019-05-20 02:59:00 test 1 @ 7933.11\"\n",
      "[1] \"2019-05-20 09:22:00 test -1 @ 7992.57\"\n",
      "[1] \"2019-05-20 09:26:00 test 1 @ 7984.62\"\n",
      "[1] \"2019-05-20 11:02:00 test -1 @ 7941.87\"\n",
      "[1] \"2019-05-20 11:05:00 test 1 @ 7891.13\"\n",
      "[1] \"2019-05-20 15:22:00 test -1 @ 7718\"\n",
      "[1] \"2019-05-20 15:23:00 test 1 @ 7718\"\n",
      "[1] \"2019-05-20 22:47:00 test -1 @ 7966.08\"\n",
      "[1] \"2019-05-20 22:49:00 test 1 @ 7958.3\"\n",
      "[1] \"2019-05-20 22:50:00 test -1 @ 7961.72\"\n",
      "[1] \"2019-05-20 22:53:00 test 1 @ 7965.2\"\n",
      "[1] \"2019-05-20 23:03:00 test -1 @ 8089.5\"\n",
      "[1] \"2019-05-20 23:05:00 test 1 @ 8067.5\"\n",
      "[1] \"2019-05-20 23:06:00 test -1 @ 8064.44\"\n",
      "[1] \"2019-05-20 23:08:00 test 1 @ 8060.45\"\n",
      "[1] \"2019-05-20 23:09:00 test -1 @ 8077.29\"\n",
      "[1] \"2019-05-20 23:10:00 test 1 @ 8077.24\"\n",
      "[1] \"2019-05-22 17:25:00 test -1 @ 8039.46\"\n",
      "[1] \"2019-05-22 17:33:00 test 1 @ 7982.25\"\n",
      "[1] \"2019-05-22 22:35:00 test -1 @ 7816.18\"\n",
      "[1] \"2019-05-22 22:37:00 test 1 @ 7801.31\"\n",
      "[1] \"2019-05-23 00:18:00 test -1 @ 7655.11\"\n",
      "[1] \"2019-05-23 00:19:00 test 1 @ 7655.11\"\n",
      "[1] \"2019-05-23 00:23:00 test -1 @ 7714.5\"\n",
      "[1] \"2019-05-23 00:25:00 test 1 @ 7716.81\"\n",
      "[1] \"2019-05-23 02:43:00 test -1 @ 7638.72\"\n",
      "[1] \"2019-05-23 02:44:00 test 1 @ 7638.72\"\n",
      "[1] \"2019-05-26 21:13:00 test -1 @ 8083.75\"\n",
      "[1] \"2019-05-26 21:15:00 test 1 @ 8088.33\"\n",
      "[1] \"2019-05-26 21:29:00 test -1 @ 8245.23\"\n",
      "[1] \"2019-05-26 21:45:00 test 1 @ 8441.21\"\n",
      "[1] \"2019-05-26 21:53:00 test -1 @ 8507.03\"\n",
      "[1] \"2019-05-26 21:56:00 test 1 @ 8562.88\"\n",
      "[1] \"2019-05-26 21:57:00 test -1 @ 8545.09\"\n",
      "[1] \"2019-05-26 22:11:00 test 1 @ 8626.13\"\n",
      "[1] \"2019-05-26 22:30:00 test -1 @ 8679.6\"\n",
      "[1] \"2019-05-26 22:31:00 test 1 @ 8679.6\"\n",
      "[1] \"2019-05-26 22:50:00 test -1 @ 8646.72\"\n",
      "[1] \"2019-05-26 22:51:00 test 1 @ 8646.72\"\n",
      "[1] \"2019-05-27 00:17:00 test -1 @ 8761.5\"\n",
      "[1] \"2019-05-27 00:18:00 test 1 @ 8761.55\"\n",
      "[1] \"2019-05-27 02:23:00 test -1 @ 8909.89\"\n",
      "[1] \"2019-05-27 02:26:00 test 1 @ 8901.69\"\n",
      "[1] \"2019-05-27 02:27:00 test -1 @ 8867.94\"\n",
      "[1] \"2019-05-27 02:28:00 test 1 @ 8868.14\"\n",
      "[1] \"2019-05-27 18:56:00 test -1 @ 8722.51\"\n",
      "[1] \"2019-05-27 18:57:00 test 1 @ 8722.51\"\n",
      "[1] \"2019-05-28 15:43:00 test -1 @ 8650.87\"\n",
      "[1] \"2019-05-28 15:44:00 test 1 @ 8650.87\"\n",
      "[1] \"2019-05-30 17:50:00 test -1 @ 8867.28\"\n",
      "[1] \"2019-05-30 17:52:00 test 1 @ 8849.19\"\n",
      "[1] \"2019-05-30 17:53:00 test -1 @ 8858.88\"\n",
      "[1] \"2019-05-30 17:54:00 test 1 @ 8858.88\"\n",
      "[1] \"2019-05-30 17:58:00 test -1 @ 8900.22\"\n",
      "[1] \"2019-05-30 17:59:00 test 1 @ 8900.22\"\n",
      "[1] \"2019-05-30 18:01:00 test -1 @ 9007.5\"\n",
      "[1] \"2019-05-30 18:10:00 test 1 @ 9023.45\"\n",
      "[1] \"2019-05-30 18:11:00 test -1 @ 8953.59\"\n",
      "[1] \"2019-05-30 18:12:00 test 1 @ 8953.59\"\n",
      "[1] \"2019-05-30 18:29:00 test -1 @ 8709.3\"\n",
      "[1] \"2019-05-30 18:30:00 test 1 @ 8709.3\"\n",
      "[1] \"2019-05-30 19:20:00 test -1 @ 8616.85\"\n",
      "[1] \"2019-05-30 19:21:00 test 1 @ 8616.85\"\n",
      "[1] \"2019-05-30 22:38:00 test -1 @ 8537.65\"\n",
      "[1] \"2019-05-30 22:40:00 test 1 @ 8528.3\"\n",
      "[1] \"2019-05-30 23:38:00 test -1 @ 8249.63\"\n",
      "[1] \"2019-05-30 23:43:00 test 1 @ 8231.03\"\n",
      "[1] \"2019-05-30 23:45:00 test -1 @ 8202.96\"\n",
      "[1] \"2019-05-30 23:47:00 test 1 @ 8193.32\"\n",
      "[1] \"2019-05-31 18:01:00 test -1 @ 8368.54\"\n",
      "[1] \"2019-05-31 18:02:00 test 1 @ 8368.54\"\n",
      "[1] \"2019-06-02 21:00:00 test -1 @ 8686.37\"\n",
      "[1] \"2019-06-02 21:12:00 test 1 @ 8682.85\"\n",
      "[1] \"2019-06-03 09:24:00 test -1 @ 8450.45\"\n",
      "[1] \"2019-06-03 09:25:00 test 1 @ 8450.45\"\n",
      "[1] \"2019-06-04 01:39:00 test -1 @ 8166.63\"\n",
      "[1] \"2019-06-04 01:40:00 test 1 @ 8166.63\"\n",
      "[1] \"2019-06-04 01:43:00 test -1 @ 8155\"\n",
      "[1] \"2019-06-04 01:44:00 test 1 @ 8155\"\n",
      "[1] \"2019-06-04 02:18:00 test -1 @ 7954.5\"\n",
      "[1] \"2019-06-04 02:24:00 test 1 @ 7951.23\"\n",
      "[1] \"2019-06-04 02:25:00 test -1 @ 7933.6\"\n",
      "[1] \"2019-06-04 02:26:00 test 1 @ 7934.64\"\n",
      "[1] \"2019-06-04 02:34:00 test -1 @ 7978.68\"\n",
      "[1] \"2019-06-04 02:35:00 test 1 @ 7979.69\"\n",
      "[1] \"2019-06-05 00:12:00 test -1 @ 7528.35\"\n",
      "[1] \"2019-06-05 00:13:00 test 1 @ 7528.35\"\n",
      "[1] \"2019-06-05 00:25:00 test -1 @ 7624.53\"\n",
      "[1] \"2019-06-05 00:26:00 test 1 @ 7624.53\"\n",
      "[1] \"2019-06-05 23:45:00 test -1 @ 7721.05\"\n",
      "[1] \"2019-06-05 23:47:00 test 1 @ 7718.83\"\n"
     ]
    },
    {
     "data": {
      "text/html": [
       "'LogisticRegressionStrategy'"
      ],
      "text/latex": [
       "'LogisticRegressionStrategy'"
      ],
      "text/markdown": [
       "'LogisticRegressionStrategy'"
      ],
      "text/plain": [
       "[1] \"LogisticRegressionStrategy\""
      ]
     },
     "metadata": {},
     "output_type": "display_data"
    },
    {
     "data": {
      "text/html": [
       "'LogisticRegressionStrategy'"
      ],
      "text/latex": [
       "'LogisticRegressionStrategy'"
      ],
      "text/markdown": [
       "'LogisticRegressionStrategy'"
      ],
      "text/plain": [
       "[1] \"LogisticRegressionStrategy\""
      ]
     },
     "metadata": {},
     "output_type": "display_data"
    },
    {
     "data": {
      "text/html": [
       "'LogisticRegressionStrategy'"
      ],
      "text/latex": [
       "'LogisticRegressionStrategy'"
      ],
      "text/markdown": [
       "'LogisticRegressionStrategy'"
      ],
      "text/plain": [
       "[1] \"LogisticRegressionStrategy\""
      ]
     },
     "metadata": {},
     "output_type": "display_data"
    }
   ],
   "source": [
    "# Apply the strategy and update the portfolios\n",
    "\n",
    "applyStrategy(strategy.st, portfolios = portfolio.st)\n",
    "\n",
    "updatePortf(portfolio.st)\n",
    "updateAcct(account.st)\n",
    "updateEndEq(account.st)"
   ]
  },
  {
   "cell_type": "code",
   "execution_count": 37,
   "metadata": {},
   "outputs": [
    {
     "data": {
      "image/png": "[encoded data removed]",
      "text/plain": [
       "plot without title"
      ]
     },
     "metadata": {},
     "output_type": "display_data"
    }
   ],
   "source": [
    "# Plot the performance of the strategy\n",
    "\n",
    "chart.Posn(portfolio.st, Symbol = \"test\", \n",
    "           TA=\"add_SMA(n = 10, col = 2); add_SMA(n = 30, col = 4)\")"
   ]
  },
  {
   "cell_type": "code",
   "execution_count": 38,
   "metadata": {},
   "outputs": [
    {
     "data": {
      "text/html": [
       "<table>\n",
       "<thead><tr><th></th><th scope=col>test</th></tr></thead>\n",
       "<tbody>\n",
       "\t<tr><th scope=row>Num.Txns</th><td>  101.00</td></tr>\n",
       "\t<tr><th scope=row>Num.Trades</th><td>   50.00</td></tr>\n",
       "\t<tr><th scope=row>Net.Trading.PL</th><td>  436.04</td></tr>\n",
       "\t<tr><th scope=row>Avg.Trade.PL</th><td>    9.66</td></tr>\n",
       "\t<tr><th scope=row>Med.Trade.PL</th><td>   -7.65</td></tr>\n",
       "\t<tr><th scope=row>Largest.Winner</th><td>  885.84</td></tr>\n",
       "\t<tr><th scope=row>Largest.Loser</th><td> -451.64</td></tr>\n",
       "\t<tr><th scope=row>Gross.Profits</th><td> 3701.87</td></tr>\n",
       "\t<tr><th scope=row>Gross.Losses</th><td>-3219.01</td></tr>\n",
       "\t<tr><th scope=row>Std.Dev.Trade.PL</th><td>  205.51</td></tr>\n",
       "\t<tr><th scope=row>Std.Err.Trade.PL</th><td>   29.06</td></tr>\n",
       "\t<tr><th scope=row>Percent.Positive</th><td>   48.00</td></tr>\n",
       "\t<tr><th scope=row>Percent.Negative</th><td>   52.00</td></tr>\n",
       "\t<tr><th scope=row>Profit.Factor</th><td>    1.15</td></tr>\n",
       "\t<tr><th scope=row>Avg.Win.Trade</th><td>  154.24</td></tr>\n",
       "\t<tr><th scope=row>Med.Win.Trade</th><td>  101.60</td></tr>\n",
       "\t<tr><th scope=row>Avg.Losing.Trade</th><td> -123.81</td></tr>\n",
       "\t<tr><th scope=row>Med.Losing.Trade</th><td>  -81.63</td></tr>\n",
       "\t<tr><th scope=row>Avg.Daily.PL</th><td>   37.14</td></tr>\n",
       "\t<tr><th scope=row>Med.Daily.PL</th><td>  -71.94</td></tr>\n",
       "\t<tr><th scope=row>Std.Dev.Daily.PL</th><td>  406.14</td></tr>\n",
       "\t<tr><th scope=row>Std.Err.Daily.PL</th><td>  112.64</td></tr>\n",
       "\t<tr><th scope=row>Ann.Sharpe</th><td>    1.45</td></tr>\n",
       "\t<tr><th scope=row>Max.Drawdown</th><td>-1551.79</td></tr>\n",
       "\t<tr><th scope=row>Profit.To.Max.Draw</th><td>    0.28</td></tr>\n",
       "\t<tr><th scope=row>Avg.WinLoss.Ratio</th><td>    1.25</td></tr>\n",
       "\t<tr><th scope=row>Med.WinLoss.Ratio</th><td>    1.24</td></tr>\n",
       "\t<tr><th scope=row>Max.Equity</th><td> 1748.05</td></tr>\n",
       "\t<tr><th scope=row>Min.Equity</th><td>  -58.96</td></tr>\n",
       "\t<tr><th scope=row>End.Equity</th><td>  436.04</td></tr>\n",
       "</tbody>\n",
       "</table>\n"
      ],
      "text/latex": [
       "\\begin{tabular}{r|l}\n",
       "  & test\\\\\n",
       "\\hline\n",
       "\tNum.Txns &   101.00\\\\\n",
       "\tNum.Trades &    50.00\\\\\n",
       "\tNet.Trading.PL &   436.04\\\\\n",
       "\tAvg.Trade.PL &     9.66\\\\\n",
       "\tMed.Trade.PL &    -7.65\\\\\n",
       "\tLargest.Winner &   885.84\\\\\n",
       "\tLargest.Loser &  -451.64\\\\\n",
       "\tGross.Profits &  3701.87\\\\\n",
       "\tGross.Losses & -3219.01\\\\\n",
       "\tStd.Dev.Trade.PL &   205.51\\\\\n",
       "\tStd.Err.Trade.PL &    29.06\\\\\n",
       "\tPercent.Positive &    48.00\\\\\n",
       "\tPercent.Negative &    52.00\\\\\n",
       "\tProfit.Factor &     1.15\\\\\n",
       "\tAvg.Win.Trade &   154.24\\\\\n",
       "\tMed.Win.Trade &   101.60\\\\\n",
       "\tAvg.Losing.Trade &  -123.81\\\\\n",
       "\tMed.Losing.Trade &   -81.63\\\\\n",
       "\tAvg.Daily.PL &    37.14\\\\\n",
       "\tMed.Daily.PL &   -71.94\\\\\n",
       "\tStd.Dev.Daily.PL &   406.14\\\\\n",
       "\tStd.Err.Daily.PL &   112.64\\\\\n",
       "\tAnn.Sharpe &     1.45\\\\\n",
       "\tMax.Drawdown & -1551.79\\\\\n",
       "\tProfit.To.Max.Draw &     0.28\\\\\n",
       "\tAvg.WinLoss.Ratio &     1.25\\\\\n",
       "\tMed.WinLoss.Ratio &     1.24\\\\\n",
       "\tMax.Equity &  1748.05\\\\\n",
       "\tMin.Equity &   -58.96\\\\\n",
       "\tEnd.Equity &   436.04\\\\\n",
       "\\end{tabular}\n"
      ],
      "text/markdown": [
       "\n",
       "| <!--/--> | test |\n",
       "|---|---|\n",
       "| Num.Txns |   101.00 |\n",
       "| Num.Trades |    50.00 |\n",
       "| Net.Trading.PL |   436.04 |\n",
       "| Avg.Trade.PL |     9.66 |\n",
       "| Med.Trade.PL |    -7.65 |\n",
       "| Largest.Winner |   885.84 |\n",
       "| Largest.Loser |  -451.64 |\n",
       "| Gross.Profits |  3701.87 |\n",
       "| Gross.Losses | -3219.01 |\n",
       "| Std.Dev.Trade.PL |   205.51 |\n",
       "| Std.Err.Trade.PL |    29.06 |\n",
       "| Percent.Positive |    48.00 |\n",
       "| Percent.Negative |    52.00 |\n",
       "| Profit.Factor |     1.15 |\n",
       "| Avg.Win.Trade |   154.24 |\n",
       "| Med.Win.Trade |   101.60 |\n",
       "| Avg.Losing.Trade |  -123.81 |\n",
       "| Med.Losing.Trade |   -81.63 |\n",
       "| Avg.Daily.PL |    37.14 |\n",
       "| Med.Daily.PL |   -71.94 |\n",
       "| Std.Dev.Daily.PL |   406.14 |\n",
       "| Std.Err.Daily.PL |   112.64 |\n",
       "| Ann.Sharpe |     1.45 |\n",
       "| Max.Drawdown | -1551.79 |\n",
       "| Profit.To.Max.Draw |     0.28 |\n",
       "| Avg.WinLoss.Ratio |     1.25 |\n",
       "| Med.WinLoss.Ratio |     1.24 |\n",
       "| Max.Equity |  1748.05 |\n",
       "| Min.Equity |   -58.96 |\n",
       "| End.Equity |   436.04 |\n",
       "\n"
      ],
      "text/plain": [
       "                   test    \n",
       "Num.Txns             101.00\n",
       "Num.Trades            50.00\n",
       "Net.Trading.PL       436.04\n",
       "Avg.Trade.PL           9.66\n",
       "Med.Trade.PL          -7.65\n",
       "Largest.Winner       885.84\n",
       "Largest.Loser       -451.64\n",
       "Gross.Profits       3701.87\n",
       "Gross.Losses       -3219.01\n",
       "Std.Dev.Trade.PL     205.51\n",
       "Std.Err.Trade.PL      29.06\n",
       "Percent.Positive      48.00\n",
       "Percent.Negative      52.00\n",
       "Profit.Factor          1.15\n",
       "Avg.Win.Trade        154.24\n",
       "Med.Win.Trade        101.60\n",
       "Avg.Losing.Trade    -123.81\n",
       "Med.Losing.Trade     -81.63\n",
       "Avg.Daily.PL          37.14\n",
       "Med.Daily.PL         -71.94\n",
       "Std.Dev.Daily.PL     406.14\n",
       "Std.Err.Daily.PL     112.64\n",
       "Ann.Sharpe             1.45\n",
       "Max.Drawdown       -1551.79\n",
       "Profit.To.Max.Draw     0.28\n",
       "Avg.WinLoss.Ratio      1.25\n",
       "Med.WinLoss.Ratio      1.24\n",
       "Max.Equity          1748.05\n",
       "Min.Equity           -58.96\n",
       "End.Equity           436.04"
      ]
     },
     "metadata": {},
     "output_type": "display_data"
    }
   ],
   "source": [
    "# Print out the performance of the strategy over the testing period.\n",
    "\n",
    "data.frame(round(t(tradeStats(portfolio.st)[-c(1,2)]),2))"
   ]
  },
  {
   "cell_type": "code",
   "execution_count": null,
   "metadata": {},
   "outputs": [],
   "source": []
  }
 ],
 "metadata": {
  "kernelspec": {
   "display_name": "R",
   "language": "R",
   "name": "ir"
  },
  "language_info": {
   "codemirror_mode": "r",
   "file_extension": ".r",
   "mimetype": "text/x-r-source",
   "name": "R",
   "pygments_lexer": "r",
   "version": "3.6.1"
  }
 },
 "nbformat": 4,
 "nbformat_minor": 2
}
